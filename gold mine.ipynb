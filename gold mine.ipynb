{
 "cells": [
  {
   "cell_type": "markdown",
   "id": "2fb38dcd-224c-47dd-83c9-5f49d9cced8f",
   "metadata": {},
   "source": [
    "GOLD MINE DESIGN"
   ]
  },
  {
   "cell_type": "code",
   "execution_count": 2,
   "id": "1fcf8949-ffd4-4e6f-99e2-c6b4b8e83e2d",
   "metadata": {},
   "outputs": [],
   "source": [
    "def Gold_Design(f,n,m):\n",
    "    for col in range(m):\n",
    "        for row in range(n):\n",
    "            if(col==0):\n",
    "                right=0\n",
    "            else:\n",
    "                right=f[row][col-1]\n",
    "            if(col==0 or row==0):\n",
    "                right_up=0\n",
    "            else:\n",
    "                 right_up=f[row-1][col-1]  #right_down\n",
    "            if(col==0 or row==n-1):\n",
    "                right_down=0\n",
    "            else:\n",
    "                right_down=f[row+1][col-1] #right_up\n",
    "            maximum=max(right,right_up,right_down)\n",
    "            f[row][col]=f[row][col]+maximum\n",
    "    res=f[0][m-1]\n",
    "    for i in range(n):\n",
    "        res=max(res,f[i][m-1])\n",
    "    print(\"\\n**********************************************************************\")\n",
    "    print(\"The maximum gold the miner can collect is {} tons of gold....\".format(res))\n",
    "    print(\"**********************************************************************\")\n",
    "    print(\"END-\"*30)\n",
    "    print(f)"
   ]
  },
  {
   "cell_type": "code",
   "execution_count": 3,
   "id": "045a8508-9d7d-40ea-9d5a-ac03547df694",
   "metadata": {},
   "outputs": [
    {
     "name": "stdout",
     "output_type": "stream",
     "text": [
      "Enter no of rows3\n",
      "Enter no of columns3\n"
     ]
    }
   ],
   "source": [
    "import numpy as np\n",
    "n=int(input(\"Enter no of rows\"))\n",
    "m=int(input(\"Enter no of columns\"))\n",
    "field=np.zeros([n,m],dtype=int)"
   ]
  },
  {
   "cell_type": "code",
   "execution_count": 4,
   "id": "5be1cff7-5bc9-4815-8a94-1a2848157e9c",
   "metadata": {},
   "outputs": [
    {
     "name": "stdout",
     "output_type": "stream",
     "text": [
      "Enter how many tons of gold in 0-0 field1\n",
      "Enter how many tons of gold in 0-1 field2\n",
      "Enter how many tons of gold in 0-2 field3\n",
      "Enter how many tons of gold in 1-0 field1\n",
      "Enter how many tons of gold in 1-1 field2\n",
      "Enter how many tons of gold in 1-2 field1\n",
      "Enter how many tons of gold in 2-0 field1\n",
      "Enter how many tons of gold in 2-1 field2\n",
      "Enter how many tons of gold in 2-2 field1\n",
      "The field is given below......\n",
      "[[1 2 3]\n",
      " [1 2 1]\n",
      " [1 2 1]]\n",
      "\n",
      "**********************************************************************\n",
      "The maximum gold the miner can collect is 6 tons of gold....\n",
      "**********************************************************************\n",
      "END-END-END-END-END-END-END-END-END-END-END-END-END-END-END-END-END-END-END-END-END-END-END-END-END-END-END-END-END-END-\n",
      "[[1 3 6]\n",
      " [1 3 4]\n",
      " [1 3 4]]\n"
     ]
    }
   ],
   "source": [
    "for i in range(n):\n",
    "    for j in range(m):\n",
    "        field[i][j]=int(input(\"Enter how many tons of gold in {}-{} field\".format(i,j)))\n",
    "print(\"The field is given below......\")\n",
    "print(field)\n",
    "Gold_Design(field,n,m)"
   ]
  },
  {
   "cell_type": "code",
   "execution_count": null,
   "id": "1d7d3c61",
   "metadata": {
    "collapsed": true
   },
   "outputs": [],
   "source": []
  }
 ],
 "metadata": {
  "kernelspec": {
   "display_name": "Python 3 (ipykernel)",
   "language": "python",
   "name": "python3"
  },
  "language_info": {
   "codemirror_mode": {
    "name": "ipython",
    "version": 3
   },
   "file_extension": ".py",
   "mimetype": "text/x-python",
   "name": "python",
   "nbconvert_exporter": "python",
   "pygments_lexer": "ipython3",
   "version": "3.9.13"
  }
 },
 "nbformat": 4,
 "nbformat_minor": 5
}
